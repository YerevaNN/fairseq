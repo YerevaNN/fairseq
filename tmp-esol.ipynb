{
 "cells": [
  {
   "cell_type": "code",
   "execution_count": 1,
   "id": "174fb916",
   "metadata": {},
   "outputs": [],
   "source": [
    "import os"
   ]
  },
  {
   "cell_type": "code",
   "execution_count": 16,
   "id": "1dc69d8c",
   "metadata": {},
   "outputs": [],
   "source": [
    "files = sorted(os.listdir('/home/gayane/BartLM/captum/fairseq/pdfs_esol_normalized/'))"
   ]
  },
  {
   "cell_type": "code",
   "execution_count": 20,
   "id": "0ad32962",
   "metadata": {},
   "outputs": [],
   "source": [
    "indices = sorted([int(x[4:-4]) for x in files])"
   ]
  },
  {
   "cell_type": "code",
   "execution_count": 12,
   "id": "30c60de8",
   "metadata": {},
   "outputs": [],
   "source": [
    "text = \"\"\"\\\\begin{subfigure}[b]{0.33\\\\textwidth} \n",
    "  \\centering \n",
    "  \\includegraphics[width=\\\\textwidth]{figures/esol/esolAAA.pdf} \n",
    "\\end{subfigure}\\\\begin{subfigure}[b]{0.33\\\\textwidth} \n",
    "  \\centering \n",
    "  \\includegraphics[width=\\\\textwidth]{figures/esol/esolBBB.pdf} \n",
    "\\end{subfigure}\\\\begin{subfigure}[b]{0.33\\\\textwidth} \n",
    "  \\centering \n",
    "  \\includegraphics[width=\\\\textwidth]{figures/esol/esolCCC.pdf} \n",
    "\\end{subfigure}\"\"\""
   ]
  },
  {
   "cell_type": "code",
   "execution_count": 24,
   "id": "0dcaf717",
   "metadata": {},
   "outputs": [
    {
     "name": "stdout",
     "output_type": "stream",
     "text": [
      "\\begin{subfigure}[b]{0.33\\textwidth} \n",
      "  \\centering \n",
      "  \\includegraphics[width=\\textwidth]{figures/esol/esol44.pdf} \n",
      "\\end{subfigure}\\begin{subfigure}[b]{0.33\\textwidth} \n",
      "  \\centering \n",
      "  \\includegraphics[width=\\textwidth]{figures/esol/esol46.pdf} \n",
      "\\end{subfigure}\\begin{subfigure}[b]{0.33\\textwidth} \n",
      "  \\centering \n",
      "  \\includegraphics[width=\\textwidth]{figures/esol/esol47.pdf} \n",
      "\\end{subfigure}\n",
      "\\begin{subfigure}[b]{0.33\\textwidth} \n",
      "  \\centering \n",
      "  \\includegraphics[width=\\textwidth]{figures/esol/esol48.pdf} \n",
      "\\end{subfigure}\\begin{subfigure}[b]{0.33\\textwidth} \n",
      "  \\centering \n",
      "  \\includegraphics[width=\\textwidth]{figures/esol/esol49.pdf} \n",
      "\\end{subfigure}\\begin{subfigure}[b]{0.33\\textwidth} \n",
      "  \\centering \n",
      "  \\includegraphics[width=\\textwidth]{figures/esol/esol50.pdf} \n",
      "\\end{subfigure}\n",
      "\\begin{subfigure}[b]{0.33\\textwidth} \n",
      "  \\centering \n",
      "  \\includegraphics[width=\\textwidth]{figures/esol/esol51.pdf} \n",
      "\\end{subfigure}\\begin{subfigure}[b]{0.33\\textwidth} \n",
      "  \\centering \n",
      "  \\includegraphics[width=\\textwidth]{figures/esol/esol52.pdf} \n",
      "\\end{subfigure}\\begin{subfigure}[b]{0.33\\textwidth} \n",
      "  \\centering \n",
      "  \\includegraphics[width=\\textwidth]{figures/esol/esol53.pdf} \n",
      "\\end{subfigure}\n",
      "\\begin{subfigure}[b]{0.33\\textwidth} \n",
      "  \\centering \n",
      "  \\includegraphics[width=\\textwidth]{figures/esol/esol55.pdf} \n",
      "\\end{subfigure}\\begin{subfigure}[b]{0.33\\textwidth} \n",
      "  \\centering \n",
      "  \\includegraphics[width=\\textwidth]{figures/esol/esol56.pdf} \n",
      "\\end{subfigure}\\begin{subfigure}[b]{0.33\\textwidth} \n",
      "  \\centering \n",
      "  \\includegraphics[width=\\textwidth]{figures/esol/esol57.pdf} \n",
      "\\end{subfigure}\n",
      "\\begin{subfigure}[b]{0.33\\textwidth} \n",
      "  \\centering \n",
      "  \\includegraphics[width=\\textwidth]{figures/esol/esol58.pdf} \n",
      "\\end{subfigure}\\begin{subfigure}[b]{0.33\\textwidth} \n",
      "  \\centering \n",
      "  \\includegraphics[width=\\textwidth]{figures/esol/esol59.pdf} \n",
      "\\end{subfigure}\\begin{subfigure}[b]{0.33\\textwidth} \n",
      "  \\centering \n",
      "  \\includegraphics[width=\\textwidth]{figures/esol/esol60.pdf} \n",
      "\\end{subfigure}\n",
      "\\begin{subfigure}[b]{0.33\\textwidth} \n",
      "  \\centering \n",
      "  \\includegraphics[width=\\textwidth]{figures/esol/esol61.pdf} \n",
      "\\end{subfigure}\\begin{subfigure}[b]{0.33\\textwidth} \n",
      "  \\centering \n",
      "  \\includegraphics[width=\\textwidth]{figures/esol/esol62.pdf} \n",
      "\\end{subfigure}\\begin{subfigure}[b]{0.33\\textwidth} \n",
      "  \\centering \n",
      "  \\includegraphics[width=\\textwidth]{figures/esol/esol63.pdf} \n",
      "\\end{subfigure}\n",
      "\\begin{subfigure}[b]{0.33\\textwidth} \n",
      "  \\centering \n",
      "  \\includegraphics[width=\\textwidth]{figures/esol/esol64.pdf} \n",
      "\\end{subfigure}\\begin{subfigure}[b]{0.33\\textwidth} \n",
      "  \\centering \n",
      "  \\includegraphics[width=\\textwidth]{figures/esol/esol65.pdf} \n",
      "\\end{subfigure}\\begin{subfigure}[b]{0.33\\textwidth} \n",
      "  \\centering \n",
      "  \\includegraphics[width=\\textwidth]{figures/esol/esol66.pdf} \n",
      "\\end{subfigure}\n"
     ]
    }
   ],
   "source": [
    "page = 2\n",
    "for i in range(page*7, page*7+7):\n",
    "    print(text\n",
    "          .replace('AAA', str(indices[3*i]))\n",
    "          .replace('BBB', str(indices[3*i+1]))\n",
    "          .replace('CCC', str(indices[3*i+2])))"
   ]
  },
  {
   "cell_type": "code",
   "execution_count": 40,
   "id": "4a46236e",
   "metadata": {},
   "outputs": [],
   "source": [
    "x = map(int, list(\"021564621\".strip()))"
   ]
  },
  {
   "cell_type": "code",
   "execution_count": 38,
   "id": "2fc95424",
   "metadata": {},
   "outputs": [
    {
     "data": {
      "text/plain": [
       "[0, 2, 1, 5, 6, 4, 6, 2, 1]"
      ]
     },
     "execution_count": 38,
     "metadata": {},
     "output_type": "execute_result"
    }
   ],
   "source": [
    "list(x)"
   ]
  },
  {
   "cell_type": "code",
   "execution_count": 35,
   "id": "ab3ed9e6",
   "metadata": {},
   "outputs": [
    {
     "name": "stderr",
     "output_type": "stream",
     "text": [
      "/home/gayane/miniconda3/envs/cptm/lib/python3.9/site-packages/tqdm/auto.py:22: TqdmWarning: IProgress not found. Please update jupyter and ipywidgets. See https://ipywidgets.readthedocs.io/en/stable/user_install.html\n",
      "  from .autonotebook import tqdm as notebook_tqdm\n"
     ]
    }
   ],
   "source": [
    "import torch"
   ]
  },
  {
   "cell_type": "code",
   "execution_count": 41,
   "id": "1efdac15",
   "metadata": {},
   "outputs": [
    {
     "data": {
      "text/plain": [
       "tensor([0, 2, 1, 5, 6, 4, 6, 2, 1])"
      ]
     },
     "execution_count": 41,
     "metadata": {},
     "output_type": "execute_result"
    }
   ],
   "source": [
    "torch.tensor(list(x))"
   ]
  },
  {
   "cell_type": "code",
   "execution_count": null,
   "id": "c1958d18",
   "metadata": {},
   "outputs": [],
   "source": []
  }
 ],
 "metadata": {
  "kernelspec": {
   "display_name": "Python 3",
   "language": "python",
   "name": "python3"
  },
  "language_info": {
   "codemirror_mode": {
    "name": "ipython",
    "version": 3
   },
   "file_extension": ".py",
   "mimetype": "text/x-python",
   "name": "python",
   "nbconvert_exporter": "python",
   "pygments_lexer": "ipython3",
   "version": "3.9.12"
  }
 },
 "nbformat": 4,
 "nbformat_minor": 5
}
